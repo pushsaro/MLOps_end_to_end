{
  "cells": [
    {
      "cell_type": "code",
      "execution_count": 1,
      "id": "9dc893f7",
      "metadata": {
        "id": "9dc893f7"
      },
      "outputs": [],
      "source": [
        "import pandas as pd\n",
        "import numpy as np\n",
        "import matplotlib.pyplot as plt\n",
        "import seaborn as sns\n",
        "import warnings\n",
        "warnings.filterwarnings('ignore')"
      ]
    },
    {
      "cell_type": "code",
      "execution_count": 2,
      "id": "d0bf7bb8",
      "metadata": {
        "colab": {
          "base_uri": "https://localhost:8080/",
          "height": 226
        },
        "id": "d0bf7bb8",
        "outputId": "ac36f990-f06a-4a0a-e3b8-ab68130c7350"
      },
      "outputs": [
        {
          "output_type": "execute_result",
          "data": {
            "text/plain": [
              "   male  age  education  currentSmoker  cigsPerDay  BPMeds  prevalentStroke  \\\n",
              "0     1   39        4.0              0         0.0     0.0                0   \n",
              "1     0   46        2.0              0         0.0     0.0                0   \n",
              "2     1   48        1.0              1        20.0     0.0                0   \n",
              "3     0   61        3.0              1        30.0     0.0                0   \n",
              "4     0   46        3.0              1        23.0     0.0                0   \n",
              "\n",
              "   prevalentHyp  diabetes  totChol  sysBP  diaBP    BMI  heartRate  glucose  \\\n",
              "0             0         0    195.0  106.0   70.0  26.97       80.0     77.0   \n",
              "1             0         0    250.0  121.0   81.0  28.73       95.0     76.0   \n",
              "2             0         0    245.0  127.5   80.0  25.34       75.0     70.0   \n",
              "3             1         0    225.0  150.0   95.0  28.58       65.0    103.0   \n",
              "4             0         0    285.0  130.0   84.0  23.10       85.0     85.0   \n",
              "\n",
              "   TenYearCHD  \n",
              "0           0  \n",
              "1           0  \n",
              "2           0  \n",
              "3           1  \n",
              "4           0  "
            ],
            "text/html": [
              "\n",
              "  <div id=\"df-fc340b94-bad7-4875-ada0-57e7f71ba167\" class=\"colab-df-container\">\n",
              "    <div>\n",
              "<style scoped>\n",
              "    .dataframe tbody tr th:only-of-type {\n",
              "        vertical-align: middle;\n",
              "    }\n",
              "\n",
              "    .dataframe tbody tr th {\n",
              "        vertical-align: top;\n",
              "    }\n",
              "\n",
              "    .dataframe thead th {\n",
              "        text-align: right;\n",
              "    }\n",
              "</style>\n",
              "<table border=\"1\" class=\"dataframe\">\n",
              "  <thead>\n",
              "    <tr style=\"text-align: right;\">\n",
              "      <th></th>\n",
              "      <th>male</th>\n",
              "      <th>age</th>\n",
              "      <th>education</th>\n",
              "      <th>currentSmoker</th>\n",
              "      <th>cigsPerDay</th>\n",
              "      <th>BPMeds</th>\n",
              "      <th>prevalentStroke</th>\n",
              "      <th>prevalentHyp</th>\n",
              "      <th>diabetes</th>\n",
              "      <th>totChol</th>\n",
              "      <th>sysBP</th>\n",
              "      <th>diaBP</th>\n",
              "      <th>BMI</th>\n",
              "      <th>heartRate</th>\n",
              "      <th>glucose</th>\n",
              "      <th>TenYearCHD</th>\n",
              "    </tr>\n",
              "  </thead>\n",
              "  <tbody>\n",
              "    <tr>\n",
              "      <th>0</th>\n",
              "      <td>1</td>\n",
              "      <td>39</td>\n",
              "      <td>4.0</td>\n",
              "      <td>0</td>\n",
              "      <td>0.0</td>\n",
              "      <td>0.0</td>\n",
              "      <td>0</td>\n",
              "      <td>0</td>\n",
              "      <td>0</td>\n",
              "      <td>195.0</td>\n",
              "      <td>106.0</td>\n",
              "      <td>70.0</td>\n",
              "      <td>26.97</td>\n",
              "      <td>80.0</td>\n",
              "      <td>77.0</td>\n",
              "      <td>0</td>\n",
              "    </tr>\n",
              "    <tr>\n",
              "      <th>1</th>\n",
              "      <td>0</td>\n",
              "      <td>46</td>\n",
              "      <td>2.0</td>\n",
              "      <td>0</td>\n",
              "      <td>0.0</td>\n",
              "      <td>0.0</td>\n",
              "      <td>0</td>\n",
              "      <td>0</td>\n",
              "      <td>0</td>\n",
              "      <td>250.0</td>\n",
              "      <td>121.0</td>\n",
              "      <td>81.0</td>\n",
              "      <td>28.73</td>\n",
              "      <td>95.0</td>\n",
              "      <td>76.0</td>\n",
              "      <td>0</td>\n",
              "    </tr>\n",
              "    <tr>\n",
              "      <th>2</th>\n",
              "      <td>1</td>\n",
              "      <td>48</td>\n",
              "      <td>1.0</td>\n",
              "      <td>1</td>\n",
              "      <td>20.0</td>\n",
              "      <td>0.0</td>\n",
              "      <td>0</td>\n",
              "      <td>0</td>\n",
              "      <td>0</td>\n",
              "      <td>245.0</td>\n",
              "      <td>127.5</td>\n",
              "      <td>80.0</td>\n",
              "      <td>25.34</td>\n",
              "      <td>75.0</td>\n",
              "      <td>70.0</td>\n",
              "      <td>0</td>\n",
              "    </tr>\n",
              "    <tr>\n",
              "      <th>3</th>\n",
              "      <td>0</td>\n",
              "      <td>61</td>\n",
              "      <td>3.0</td>\n",
              "      <td>1</td>\n",
              "      <td>30.0</td>\n",
              "      <td>0.0</td>\n",
              "      <td>0</td>\n",
              "      <td>1</td>\n",
              "      <td>0</td>\n",
              "      <td>225.0</td>\n",
              "      <td>150.0</td>\n",
              "      <td>95.0</td>\n",
              "      <td>28.58</td>\n",
              "      <td>65.0</td>\n",
              "      <td>103.0</td>\n",
              "      <td>1</td>\n",
              "    </tr>\n",
              "    <tr>\n",
              "      <th>4</th>\n",
              "      <td>0</td>\n",
              "      <td>46</td>\n",
              "      <td>3.0</td>\n",
              "      <td>1</td>\n",
              "      <td>23.0</td>\n",
              "      <td>0.0</td>\n",
              "      <td>0</td>\n",
              "      <td>0</td>\n",
              "      <td>0</td>\n",
              "      <td>285.0</td>\n",
              "      <td>130.0</td>\n",
              "      <td>84.0</td>\n",
              "      <td>23.10</td>\n",
              "      <td>85.0</td>\n",
              "      <td>85.0</td>\n",
              "      <td>0</td>\n",
              "    </tr>\n",
              "  </tbody>\n",
              "</table>\n",
              "</div>\n",
              "    <div class=\"colab-df-buttons\">\n",
              "\n",
              "  <div class=\"colab-df-container\">\n",
              "    <button class=\"colab-df-convert\" onclick=\"convertToInteractive('df-fc340b94-bad7-4875-ada0-57e7f71ba167')\"\n",
              "            title=\"Convert this dataframe to an interactive table.\"\n",
              "            style=\"display:none;\">\n",
              "\n",
              "  <svg xmlns=\"http://www.w3.org/2000/svg\" height=\"24px\" viewBox=\"0 -960 960 960\">\n",
              "    <path d=\"M120-120v-720h720v720H120Zm60-500h600v-160H180v160Zm220 220h160v-160H400v160Zm0 220h160v-160H400v160ZM180-400h160v-160H180v160Zm440 0h160v-160H620v160ZM180-180h160v-160H180v160Zm440 0h160v-160H620v160Z\"/>\n",
              "  </svg>\n",
              "    </button>\n",
              "\n",
              "  <style>\n",
              "    .colab-df-container {\n",
              "      display:flex;\n",
              "      gap: 12px;\n",
              "    }\n",
              "\n",
              "    .colab-df-convert {\n",
              "      background-color: #E8F0FE;\n",
              "      border: none;\n",
              "      border-radius: 50%;\n",
              "      cursor: pointer;\n",
              "      display: none;\n",
              "      fill: #1967D2;\n",
              "      height: 32px;\n",
              "      padding: 0 0 0 0;\n",
              "      width: 32px;\n",
              "    }\n",
              "\n",
              "    .colab-df-convert:hover {\n",
              "      background-color: #E2EBFA;\n",
              "      box-shadow: 0px 1px 2px rgba(60, 64, 67, 0.3), 0px 1px 3px 1px rgba(60, 64, 67, 0.15);\n",
              "      fill: #174EA6;\n",
              "    }\n",
              "\n",
              "    .colab-df-buttons div {\n",
              "      margin-bottom: 4px;\n",
              "    }\n",
              "\n",
              "    [theme=dark] .colab-df-convert {\n",
              "      background-color: #3B4455;\n",
              "      fill: #D2E3FC;\n",
              "    }\n",
              "\n",
              "    [theme=dark] .colab-df-convert:hover {\n",
              "      background-color: #434B5C;\n",
              "      box-shadow: 0px 1px 3px 1px rgba(0, 0, 0, 0.15);\n",
              "      filter: drop-shadow(0px 1px 2px rgba(0, 0, 0, 0.3));\n",
              "      fill: #FFFFFF;\n",
              "    }\n",
              "  </style>\n",
              "\n",
              "    <script>\n",
              "      const buttonEl =\n",
              "        document.querySelector('#df-fc340b94-bad7-4875-ada0-57e7f71ba167 button.colab-df-convert');\n",
              "      buttonEl.style.display =\n",
              "        google.colab.kernel.accessAllowed ? 'block' : 'none';\n",
              "\n",
              "      async function convertToInteractive(key) {\n",
              "        const element = document.querySelector('#df-fc340b94-bad7-4875-ada0-57e7f71ba167');\n",
              "        const dataTable =\n",
              "          await google.colab.kernel.invokeFunction('convertToInteractive',\n",
              "                                                    [key], {});\n",
              "        if (!dataTable) return;\n",
              "\n",
              "        const docLinkHtml = 'Like what you see? Visit the ' +\n",
              "          '<a target=\"_blank\" href=https://colab.research.google.com/notebooks/data_table.ipynb>data table notebook</a>'\n",
              "          + ' to learn more about interactive tables.';\n",
              "        element.innerHTML = '';\n",
              "        dataTable['output_type'] = 'display_data';\n",
              "        await google.colab.output.renderOutput(dataTable, element);\n",
              "        const docLink = document.createElement('div');\n",
              "        docLink.innerHTML = docLinkHtml;\n",
              "        element.appendChild(docLink);\n",
              "      }\n",
              "    </script>\n",
              "  </div>\n",
              "\n",
              "\n",
              "<div id=\"df-7878d104-6946-4e71-ae03-8e5287268169\">\n",
              "  <button class=\"colab-df-quickchart\" onclick=\"quickchart('df-7878d104-6946-4e71-ae03-8e5287268169')\"\n",
              "            title=\"Suggest charts\"\n",
              "            style=\"display:none;\">\n",
              "\n",
              "<svg xmlns=\"http://www.w3.org/2000/svg\" height=\"24px\"viewBox=\"0 0 24 24\"\n",
              "     width=\"24px\">\n",
              "    <g>\n",
              "        <path d=\"M19 3H5c-1.1 0-2 .9-2 2v14c0 1.1.9 2 2 2h14c1.1 0 2-.9 2-2V5c0-1.1-.9-2-2-2zM9 17H7v-7h2v7zm4 0h-2V7h2v10zm4 0h-2v-4h2v4z\"/>\n",
              "    </g>\n",
              "</svg>\n",
              "  </button>\n",
              "\n",
              "<style>\n",
              "  .colab-df-quickchart {\n",
              "      --bg-color: #E8F0FE;\n",
              "      --fill-color: #1967D2;\n",
              "      --hover-bg-color: #E2EBFA;\n",
              "      --hover-fill-color: #174EA6;\n",
              "      --disabled-fill-color: #AAA;\n",
              "      --disabled-bg-color: #DDD;\n",
              "  }\n",
              "\n",
              "  [theme=dark] .colab-df-quickchart {\n",
              "      --bg-color: #3B4455;\n",
              "      --fill-color: #D2E3FC;\n",
              "      --hover-bg-color: #434B5C;\n",
              "      --hover-fill-color: #FFFFFF;\n",
              "      --disabled-bg-color: #3B4455;\n",
              "      --disabled-fill-color: #666;\n",
              "  }\n",
              "\n",
              "  .colab-df-quickchart {\n",
              "    background-color: var(--bg-color);\n",
              "    border: none;\n",
              "    border-radius: 50%;\n",
              "    cursor: pointer;\n",
              "    display: none;\n",
              "    fill: var(--fill-color);\n",
              "    height: 32px;\n",
              "    padding: 0;\n",
              "    width: 32px;\n",
              "  }\n",
              "\n",
              "  .colab-df-quickchart:hover {\n",
              "    background-color: var(--hover-bg-color);\n",
              "    box-shadow: 0 1px 2px rgba(60, 64, 67, 0.3), 0 1px 3px 1px rgba(60, 64, 67, 0.15);\n",
              "    fill: var(--button-hover-fill-color);\n",
              "  }\n",
              "\n",
              "  .colab-df-quickchart-complete:disabled,\n",
              "  .colab-df-quickchart-complete:disabled:hover {\n",
              "    background-color: var(--disabled-bg-color);\n",
              "    fill: var(--disabled-fill-color);\n",
              "    box-shadow: none;\n",
              "  }\n",
              "\n",
              "  .colab-df-spinner {\n",
              "    border: 2px solid var(--fill-color);\n",
              "    border-color: transparent;\n",
              "    border-bottom-color: var(--fill-color);\n",
              "    animation:\n",
              "      spin 1s steps(1) infinite;\n",
              "  }\n",
              "\n",
              "  @keyframes spin {\n",
              "    0% {\n",
              "      border-color: transparent;\n",
              "      border-bottom-color: var(--fill-color);\n",
              "      border-left-color: var(--fill-color);\n",
              "    }\n",
              "    20% {\n",
              "      border-color: transparent;\n",
              "      border-left-color: var(--fill-color);\n",
              "      border-top-color: var(--fill-color);\n",
              "    }\n",
              "    30% {\n",
              "      border-color: transparent;\n",
              "      border-left-color: var(--fill-color);\n",
              "      border-top-color: var(--fill-color);\n",
              "      border-right-color: var(--fill-color);\n",
              "    }\n",
              "    40% {\n",
              "      border-color: transparent;\n",
              "      border-right-color: var(--fill-color);\n",
              "      border-top-color: var(--fill-color);\n",
              "    }\n",
              "    60% {\n",
              "      border-color: transparent;\n",
              "      border-right-color: var(--fill-color);\n",
              "    }\n",
              "    80% {\n",
              "      border-color: transparent;\n",
              "      border-right-color: var(--fill-color);\n",
              "      border-bottom-color: var(--fill-color);\n",
              "    }\n",
              "    90% {\n",
              "      border-color: transparent;\n",
              "      border-bottom-color: var(--fill-color);\n",
              "    }\n",
              "  }\n",
              "</style>\n",
              "\n",
              "  <script>\n",
              "    async function quickchart(key) {\n",
              "      const quickchartButtonEl =\n",
              "        document.querySelector('#' + key + ' button');\n",
              "      quickchartButtonEl.disabled = true;  // To prevent multiple clicks.\n",
              "      quickchartButtonEl.classList.add('colab-df-spinner');\n",
              "      try {\n",
              "        const charts = await google.colab.kernel.invokeFunction(\n",
              "            'suggestCharts', [key], {});\n",
              "      } catch (error) {\n",
              "        console.error('Error during call to suggestCharts:', error);\n",
              "      }\n",
              "      quickchartButtonEl.classList.remove('colab-df-spinner');\n",
              "      quickchartButtonEl.classList.add('colab-df-quickchart-complete');\n",
              "    }\n",
              "    (() => {\n",
              "      let quickchartButtonEl =\n",
              "        document.querySelector('#df-7878d104-6946-4e71-ae03-8e5287268169 button');\n",
              "      quickchartButtonEl.style.display =\n",
              "        google.colab.kernel.accessAllowed ? 'block' : 'none';\n",
              "    })();\n",
              "  </script>\n",
              "</div>\n",
              "    </div>\n",
              "  </div>\n"
            ]
          },
          "metadata": {},
          "execution_count": 2
        }
      ],
      "source": [
        "df=pd.read_csv(\"/content/sample_data/framingham.csv\")\n",
        "df.head()"
      ]
    },
    {
      "cell_type": "code",
      "execution_count": 3,
      "id": "bba15e15",
      "metadata": {
        "colab": {
          "base_uri": "https://localhost:8080/"
        },
        "id": "bba15e15",
        "outputId": "ae286895-fd84-425c-af32-9d813250daa7"
      },
      "outputs": [
        {
          "output_type": "stream",
          "name": "stdout",
          "text": [
            "<class 'pandas.core.frame.DataFrame'>\n",
            "RangeIndex: 4238 entries, 0 to 4237\n",
            "Data columns (total 16 columns):\n",
            " #   Column           Non-Null Count  Dtype  \n",
            "---  ------           --------------  -----  \n",
            " 0   male             4238 non-null   int64  \n",
            " 1   age              4238 non-null   int64  \n",
            " 2   education        4133 non-null   float64\n",
            " 3   currentSmoker    4238 non-null   int64  \n",
            " 4   cigsPerDay       4209 non-null   float64\n",
            " 5   BPMeds           4185 non-null   float64\n",
            " 6   prevalentStroke  4238 non-null   int64  \n",
            " 7   prevalentHyp     4238 non-null   int64  \n",
            " 8   diabetes         4238 non-null   int64  \n",
            " 9   totChol          4188 non-null   float64\n",
            " 10  sysBP            4238 non-null   float64\n",
            " 11  diaBP            4238 non-null   float64\n",
            " 12  BMI              4219 non-null   float64\n",
            " 13  heartRate        4237 non-null   float64\n",
            " 14  glucose          3850 non-null   float64\n",
            " 15  TenYearCHD       4238 non-null   int64  \n",
            "dtypes: float64(9), int64(7)\n",
            "memory usage: 529.9 KB\n"
          ]
        }
      ],
      "source": [
        "df.info()"
      ]
    },
    {
      "cell_type": "code",
      "execution_count": 4,
      "id": "905249b7",
      "metadata": {
        "colab": {
          "base_uri": "https://localhost:8080/"
        },
        "id": "905249b7",
        "outputId": "32b4de8d-91b5-4ded-ee55-884257b78a0a"
      },
      "outputs": [
        {
          "output_type": "execute_result",
          "data": {
            "text/plain": [
              "male                 0\n",
              "age                  0\n",
              "education          105\n",
              "currentSmoker        0\n",
              "cigsPerDay          29\n",
              "BPMeds              53\n",
              "prevalentStroke      0\n",
              "prevalentHyp         0\n",
              "diabetes             0\n",
              "totChol             50\n",
              "sysBP                0\n",
              "diaBP                0\n",
              "BMI                 19\n",
              "heartRate            1\n",
              "glucose            388\n",
              "TenYearCHD           0\n",
              "dtype: int64"
            ]
          },
          "metadata": {},
          "execution_count": 4
        }
      ],
      "source": [
        "df.isnull().sum()"
      ]
    },
    {
      "cell_type": "code",
      "execution_count": 5,
      "id": "03c1dba7",
      "metadata": {
        "id": "03c1dba7"
      },
      "outputs": [],
      "source": [
        "df['education'].fillna(df['education'].mean(),inplace=True)"
      ]
    },
    {
      "cell_type": "code",
      "execution_count": 6,
      "id": "10356ee0",
      "metadata": {
        "id": "10356ee0"
      },
      "outputs": [],
      "source": [
        "df['cigsPerDay'].fillna(df['cigsPerDay'].median(),inplace=True)"
      ]
    },
    {
      "cell_type": "code",
      "execution_count": 7,
      "id": "d0f304e3",
      "metadata": {
        "id": "d0f304e3"
      },
      "outputs": [],
      "source": [
        "df['totChol'].fillna(df['totChol'].mean(),inplace=True)"
      ]
    },
    {
      "cell_type": "code",
      "execution_count": 8,
      "id": "d41a94ac",
      "metadata": {
        "id": "d41a94ac"
      },
      "outputs": [],
      "source": [
        "df['BMI'].fillna(df['BMI'].median(),inplace=True)"
      ]
    },
    {
      "cell_type": "code",
      "execution_count": 9,
      "id": "0612f951",
      "metadata": {
        "id": "0612f951"
      },
      "outputs": [],
      "source": [
        "df['glucose'].fillna(df['glucose'].mean(),inplace=True)"
      ]
    },
    {
      "cell_type": "code",
      "execution_count": 10,
      "id": "511845de",
      "metadata": {
        "id": "511845de"
      },
      "outputs": [],
      "source": [
        "df['BPMeds'].fillna(df['BPMeds'].mean(),inplace=True)"
      ]
    },
    {
      "cell_type": "code",
      "execution_count": 11,
      "id": "acf4dc3e",
      "metadata": {
        "id": "acf4dc3e"
      },
      "outputs": [],
      "source": [
        "df.dropna(axis=0,inplace=True)"
      ]
    },
    {
      "cell_type": "code",
      "execution_count": 12,
      "id": "a3576c4e",
      "metadata": {
        "colab": {
          "base_uri": "https://localhost:8080/"
        },
        "id": "a3576c4e",
        "outputId": "1ed2924c-fd10-497f-bbb3-b20c46c3d289"
      },
      "outputs": [
        {
          "output_type": "stream",
          "name": "stdout",
          "text": [
            "<class 'pandas.core.frame.DataFrame'>\n",
            "Int64Index: 4237 entries, 0 to 4237\n",
            "Data columns (total 16 columns):\n",
            " #   Column           Non-Null Count  Dtype  \n",
            "---  ------           --------------  -----  \n",
            " 0   male             4237 non-null   int64  \n",
            " 1   age              4237 non-null   int64  \n",
            " 2   education        4237 non-null   float64\n",
            " 3   currentSmoker    4237 non-null   int64  \n",
            " 4   cigsPerDay       4237 non-null   float64\n",
            " 5   BPMeds           4237 non-null   float64\n",
            " 6   prevalentStroke  4237 non-null   int64  \n",
            " 7   prevalentHyp     4237 non-null   int64  \n",
            " 8   diabetes         4237 non-null   int64  \n",
            " 9   totChol          4237 non-null   float64\n",
            " 10  sysBP            4237 non-null   float64\n",
            " 11  diaBP            4237 non-null   float64\n",
            " 12  BMI              4237 non-null   float64\n",
            " 13  heartRate        4237 non-null   float64\n",
            " 14  glucose          4237 non-null   float64\n",
            " 15  TenYearCHD       4237 non-null   int64  \n",
            "dtypes: float64(9), int64(7)\n",
            "memory usage: 562.7 KB\n"
          ]
        }
      ],
      "source": [
        "df.info()"
      ]
    },
    {
      "cell_type": "code",
      "execution_count": 13,
      "id": "913d0fe3",
      "metadata": {
        "colab": {
          "base_uri": "https://localhost:8080/",
          "height": 428
        },
        "id": "913d0fe3",
        "outputId": "73970370-1b80-42da-9471-96b2be5fe26c"
      },
      "outputs": [
        {
          "output_type": "execute_result",
          "data": {
            "text/plain": [
              "<Axes: ylabel='cigsPerDay'>"
            ]
          },
          "metadata": {},
          "execution_count": 13
        },
        {
          "output_type": "display_data",
          "data": {
            "text/plain": [
              "<Figure size 640x480 with 1 Axes>"
            ],
            "image/png": "[encoded data removed]"
          },
          "metadata": {}
        }
      ],
      "source": [
        "sns.boxplot(y=df['cigsPerDay'])"
      ]
    },
    {
      "cell_type": "code",
      "execution_count": 14,
      "id": "f7d7d22f",
      "metadata": {
        "id": "f7d7d22f"
      },
      "outputs": [],
      "source": [
        "df.loc[df['cigsPerDay']>50,'cigsPerDay']=df.loc[df['cigsPerDay']<50,'cigsPerDay'].mean()"
      ]
    },
    {
      "cell_type": "code",
      "execution_count": 15,
      "id": "5a74b69c",
      "metadata": {
        "colab": {
          "base_uri": "https://localhost:8080/",
          "height": 428
        },
        "id": "5a74b69c",
        "outputId": "8cf7cd2d-94e8-4bf6-94fe-5bd0caede3d7"
      },
      "outputs": [
        {
          "output_type": "execute_result",
          "data": {
            "text/plain": [
              "<Axes: ylabel='cigsPerDay'>"
            ]
          },
          "metadata": {},
          "execution_count": 15
        },
        {
          "output_type": "display_data",
          "data": {
            "text/plain": [
              "<Figure size 640x480 with 1 Axes>"
            ],
            "image/png": "[encoded data removed]"
          },
          "metadata": {}
        }
      ],
      "source": [
        "sns.boxplot(y=df['cigsPerDay'])"
      ]
    },
    {
      "cell_type": "code",
      "execution_count": 16,
      "id": "c2d10c47",
      "metadata": {
        "id": "c2d10c47"
      },
      "outputs": [],
      "source": [
        "df['BPMeds']=np.around(df['BPMeds'],1)"
      ]
    },
    {
      "cell_type": "code",
      "execution_count": 17,
      "id": "f1b76768",
      "metadata": {
        "colab": {
          "base_uri": "https://localhost:8080/",
          "height": 428
        },
        "id": "f1b76768",
        "outputId": "a5e555ab-d3e4-4750-8155-355a0c48ab5d"
      },
      "outputs": [
        {
          "output_type": "execute_result",
          "data": {
            "text/plain": [
              "<Axes: ylabel='totChol'>"
            ]
          },
          "metadata": {},
          "execution_count": 17
        },
        {
          "output_type": "display_data",
          "data": {
            "text/plain": [
              "<Figure size 640x480 with 1 Axes>"
            ],
            "image/png": "[encoded data removed]"
          },
          "metadata": {}
        }
      ],
      "source": [
        "sns.boxplot(y=df['totChol'])"
      ]
    },
    {
      "cell_type": "code",
      "execution_count": 18,
      "id": "d15eee7e",
      "metadata": {
        "id": "d15eee7e"
      },
      "outputs": [],
      "source": [
        "q1=df['totChol'].quantile(0.25)\n",
        "q2=df['totChol'].quantile(0.5)\n",
        "q3=df['totChol'].quantile(0.75)\n",
        "iqr=q3-q1\n",
        "upper_tail=q3+1.5*iqr\n",
        "lower_tail=q1-1.5*iqr\n",
        "mean=df[(df['totChol']<upper_tail) | (df['totChol']>lower_tail)]['totChol'].mean()\n",
        "for j,i in np.ndenumerate(df['totChol']):\n",
        "    if i>upper_tail or i<lower_tail:\n",
        "        df['totChol'].replace({i:mean},inplace=True)"
      ]
    },
    {
      "cell_type": "code",
      "execution_count": 19,
      "id": "6911c091",
      "metadata": {
        "colab": {
          "base_uri": "https://localhost:8080/",
          "height": 428
        },
        "id": "6911c091",
        "outputId": "974a0f13-b55f-48de-f342-9337c26344f6"
      },
      "outputs": [
        {
          "output_type": "execute_result",
          "data": {
            "text/plain": [
              "<Axes: ylabel='totChol'>"
            ]
          },
          "metadata": {},
          "execution_count": 19
        },
        {
          "output_type": "display_data",
          "data": {
            "text/plain": [
              "<Figure size 640x480 with 1 Axes>"
            ],
            "image/png": "[encoded data removed]"
          },
          "metadata": {}
        }
      ],
      "source": [
        "sns.boxplot(y=df['totChol'])"
      ]
    },
    {
      "cell_type": "code",
      "execution_count": 20,
      "id": "ee99b926",
      "metadata": {
        "colab": {
          "base_uri": "https://localhost:8080/",
          "height": 428
        },
        "id": "ee99b926",
        "outputId": "a83cbebe-d54b-446d-c23c-a7284b2a6ed1"
      },
      "outputs": [
        {
          "output_type": "execute_result",
          "data": {
            "text/plain": [
              "<Axes: ylabel='sysBP'>"
            ]
          },
          "metadata": {},
          "execution_count": 20
        },
        {
          "output_type": "display_data",
          "data": {
            "text/plain": [
              "<Figure size 640x480 with 1 Axes>"
            ],
            "image/png": "[encoded data removed]"
          },
          "metadata": {}
        }
      ],
      "source": [
        "sns.boxplot(y=df['sysBP'])"
      ]
    },
    {
      "cell_type": "code",
      "execution_count": 21,
      "id": "a720fe04",
      "metadata": {
        "id": "a720fe04"
      },
      "outputs": [],
      "source": [
        "q1=df['sysBP'].quantile(0.25)\n",
        "q2=df['sysBP'].quantile(0.5)\n",
        "q3=df['sysBP'].quantile(0.75)\n",
        "iqr=q3-q1\n",
        "upper_tail=q3+1.5*iqr\n",
        "lower_tail=q1-1.5*iqr\n",
        "mean=df[(df['sysBP']<upper_tail) | (df['sysBP']>lower_tail)]['sysBP'].mean()\n",
        "for j,i in np.ndenumerate(df['sysBP']):\n",
        "    if i>upper_tail or i<lower_tail:\n",
        "        df['sysBP'].replace({i:mean},inplace=True)"
      ]
    },
    {
      "cell_type": "code",
      "execution_count": 22,
      "id": "de0c7d4d",
      "metadata": {
        "colab": {
          "base_uri": "https://localhost:8080/",
          "height": 428
        },
        "id": "de0c7d4d",
        "outputId": "15729860-5f65-4118-e29a-417678093640"
      },
      "outputs": [
        {
          "output_type": "execute_result",
          "data": {
            "text/plain": [
              "<Axes: ylabel='sysBP'>"
            ]
          },
          "metadata": {},
          "execution_count": 22
        },
        {
          "output_type": "display_data",
          "data": {
            "text/plain": [
              "<Figure size 640x480 with 1 Axes>"
            ],
            "image/png": "[encoded data removed]"
          },
          "metadata": {}
        }
      ],
      "source": [
        "sns.boxplot(y=df['sysBP'])"
      ]
    },
    {
      "cell_type": "code",
      "execution_count": 23,
      "id": "b1ebdd9e",
      "metadata": {
        "colab": {
          "base_uri": "https://localhost:8080/",
          "height": 428
        },
        "id": "b1ebdd9e",
        "outputId": "e7352141-1820-4710-d8db-d2592ee0e843"
      },
      "outputs": [
        {
          "output_type": "execute_result",
          "data": {
            "text/plain": [
              "<Axes: ylabel='diaBP'>"
            ]
          },
          "metadata": {},
          "execution_count": 23
        },
        {
          "output_type": "display_data",
          "data": {
            "text/plain": [
              "<Figure size 640x480 with 1 Axes>"
            ],
            "image/png": "[encoded data removed]"
          },
          "metadata": {}
        }
      ],
      "source": [
        "sns.boxplot(y=df['diaBP'])"
      ]
    },
    {
      "cell_type": "code",
      "execution_count": 24,
      "id": "08777c66",
      "metadata": {
        "id": "08777c66"
      },
      "outputs": [],
      "source": [
        "q1=df['diaBP'].quantile(0.25)\n",
        "q2=df['diaBP'].quantile(0.5)\n",
        "q3=df['diaBP'].quantile(0.75)\n",
        "iqr=q3-q1\n",
        "upper_tail=q3+1.5*iqr\n",
        "lower_tail=q1-1.5*iqr\n",
        "mean=df[(df['diaBP']<upper_tail) | (df['diaBP']>lower_tail)]['diaBP'].mean()\n",
        "for j,i in np.ndenumerate(df['diaBP']):\n",
        "    if i>upper_tail or i<lower_tail:\n",
        "        df['diaBP'].replace({i:mean},inplace=True)"
      ]
    },
    {
      "cell_type": "code",
      "execution_count": 25,
      "id": "cc8f183e",
      "metadata": {
        "colab": {
          "base_uri": "https://localhost:8080/",
          "height": 428
        },
        "id": "cc8f183e",
        "outputId": "96644b97-bf17-4473-cedf-1527b6a658c5"
      },
      "outputs": [
        {
          "output_type": "execute_result",
          "data": {
            "text/plain": [
              "<Axes: ylabel='diaBP'>"
            ]
          },
          "metadata": {},
          "execution_count": 25
        },
        {
          "output_type": "display_data",
          "data": {
            "text/plain": [
              "<Figure size 640x480 with 1 Axes>"
            ],
            "image/png": "[encoded data removed]"
          },
          "metadata": {}
        }
      ],
      "source": [
        "sns.boxplot(y=df['diaBP'])"
      ]
    },
    {
      "cell_type": "code",
      "execution_count": 26,
      "id": "7fd72659",
      "metadata": {
        "colab": {
          "base_uri": "https://localhost:8080/",
          "height": 428
        },
        "id": "7fd72659",
        "outputId": "b6ed1243-beee-4abf-a2b4-ce660420058a"
      },
      "outputs": [
        {
          "output_type": "execute_result",
          "data": {
            "text/plain": [
              "<Axes: ylabel='BMI'>"
            ]
          },
          "metadata": {},
          "execution_count": 26
        },
        {
          "output_type": "display_data",
          "data": {
            "text/plain": [
              "<Figure size 640x480 with 1 Axes>"
            ],
            "image/png": "[encoded data removed]"
          },
          "metadata": {}
        }
      ],
      "source": [
        "sns.boxplot(y=df['BMI'])"
      ]
    },
    {
      "cell_type": "code",
      "execution_count": 27,
      "id": "19a6f980",
      "metadata": {
        "id": "19a6f980"
      },
      "outputs": [],
      "source": [
        "q1=df['BMI'].quantile(0.25)\n",
        "q2=df['BMI'].quantile(0.5)\n",
        "q3=df['BMI'].quantile(0.75)\n",
        "iqr=q3-q1\n",
        "upper_tail=q3+1.5*iqr\n",
        "lower_tail=q1-1.5*iqr\n",
        "mean=df[df['BMI']<upper_tail]['BMI'].mean()\n",
        "for j,i in np.ndenumerate(df['BMI']):\n",
        "    if i>upper_tail:\n",
        "        df['BMI'].replace({i:mean},inplace=True)"
      ]
    },
    {
      "cell_type": "code",
      "execution_count": 28,
      "id": "a959e40b",
      "metadata": {
        "colab": {
          "base_uri": "https://localhost:8080/",
          "height": 428
        },
        "id": "a959e40b",
        "outputId": "25fbf186-2a8a-4dee-b417-86ab74a68893"
      },
      "outputs": [
        {
          "output_type": "execute_result",
          "data": {
            "text/plain": [
              "<Axes: ylabel='BMI'>"
            ]
          },
          "metadata": {},
          "execution_count": 28
        },
        {
          "output_type": "display_data",
          "data": {
            "text/plain": [
              "<Figure size 640x480 with 1 Axes>"
            ],
            "image/png": "[encoded data removed]"
          },
          "metadata": {}
        }
      ],
      "source": [
        "sns.boxplot(y=df['BMI'])"
      ]
    },
    {
      "cell_type": "code",
      "execution_count": 29,
      "id": "e9570c84",
      "metadata": {
        "colab": {
          "base_uri": "https://localhost:8080/",
          "height": 428
        },
        "id": "e9570c84",
        "outputId": "1e698731-f243-40da-cff6-2e94548a05d5"
      },
      "outputs": [
        {
          "output_type": "execute_result",
          "data": {
            "text/plain": [
              "<Axes: ylabel='heartRate'>"
            ]
          },
          "metadata": {},
          "execution_count": 29
        },
        {
          "output_type": "display_data",
          "data": {
            "text/plain": [
              "<Figure size 640x480 with 1 Axes>"
            ],
            "image/png": "[encoded data removed]"
          },
          "metadata": {}
        }
      ],
      "source": [
        "sns.boxplot(y=df['heartRate'])"
      ]
    },
    {
      "cell_type": "code",
      "execution_count": 30,
      "id": "b13492b4",
      "metadata": {
        "id": "b13492b4"
      },
      "outputs": [],
      "source": [
        "q1=df['heartRate'].quantile(0.25)\n",
        "q2=df['heartRate'].quantile(0.5)\n",
        "q3=df['heartRate'].quantile(0.75)\n",
        "iqr=q3-q1\n",
        "upper_tail=q3+1.5*iqr\n",
        "lower_tail=q1-1.5*iqr\n",
        "mean=df[df['heartRate']<upper_tail]['heartRate'].mean()\n",
        "for j,i in np.ndenumerate(df['heartRate']):\n",
        "    if i>upper_tail:\n",
        "        df['heartRate'].replace({i:mean},inplace=True)"
      ]
    },
    {
      "cell_type": "code",
      "execution_count": 31,
      "id": "d414b4fc",
      "metadata": {
        "colab": {
          "base_uri": "https://localhost:8080/",
          "height": 428
        },
        "id": "d414b4fc",
        "outputId": "67a117a5-8c7c-412d-9a96-1ebe398512a6"
      },
      "outputs": [
        {
          "output_type": "execute_result",
          "data": {
            "text/plain": [
              "<Axes: ylabel='heartRate'>"
            ]
          },
          "metadata": {},
          "execution_count": 31
        },
        {
          "output_type": "display_data",
          "data": {
            "text/plain": [
              "<Figure size 640x480 with 1 Axes>"
            ],
            "image/png": "[encoded data removed]"
          },
          "metadata": {}
        }
      ],
      "source": [
        "sns.boxplot(y=df['heartRate'])"
      ]
    },
    {
      "cell_type": "code",
      "execution_count": 32,
      "id": "bb81df4b",
      "metadata": {
        "colab": {
          "base_uri": "https://localhost:8080/",
          "height": 428
        },
        "id": "bb81df4b",
        "outputId": "56155834-82f5-403c-b855-e5c31c4ebc3f"
      },
      "outputs": [
        {
          "output_type": "execute_result",
          "data": {
            "text/plain": [
              "<Axes: ylabel='glucose'>"
            ]
          },
          "metadata": {},
          "execution_count": 32
        },
        {
          "output_type": "display_data",
          "data": {
            "text/plain": [
              "<Figure size 640x480 with 1 Axes>"
            ],
            "image/png": "[encoded data removed]"
          },
          "metadata": {}
        }
      ],
      "source": [
        "sns.boxplot(y=df['glucose'])"
      ]
    },
    {
      "cell_type": "code",
      "execution_count": 33,
      "id": "df445fda",
      "metadata": {
        "id": "df445fda"
      },
      "outputs": [],
      "source": [
        "q1=df['glucose'].quantile(0.25)\n",
        "q2=df['glucose'].quantile(0.5)\n",
        "q3=df['glucose'].quantile(0.75)\n",
        "iqr=q3-q1\n",
        "upper_tail=q3+1.5*iqr\n",
        "lower_tail=q1-1.5*iqr\n",
        "mean=df[(df['glucose']<upper_tail) | (df['glucose']>lower_tail)]['glucose'].mean()\n",
        "for j,i in np.ndenumerate(df['glucose']):\n",
        "    if i>upper_tail or i<lower_tail:\n",
        "        df['glucose'].replace({i:mean},inplace=True)"
      ]
    },
    {
      "cell_type": "code",
      "execution_count": 34,
      "id": "c4307c0f",
      "metadata": {
        "colab": {
          "base_uri": "https://localhost:8080/",
          "height": 428
        },
        "id": "c4307c0f",
        "outputId": "063e6b71-3a50-4ad7-d3b1-d022ebec40c6"
      },
      "outputs": [
        {
          "output_type": "execute_result",
          "data": {
            "text/plain": [
              "<Axes: ylabel='glucose'>"
            ]
          },
          "metadata": {},
          "execution_count": 34
        },
        {
          "output_type": "display_data",
          "data": {
            "text/plain": [
              "<Figure size 640x480 with 1 Axes>"
            ],
            "image/png": "[encoded data removed]"
          },
          "metadata": {}
        }
      ],
      "source": [
        "sns.boxplot(y=df['glucose'])"
      ]
    },
    {
      "cell_type": "code",
      "execution_count": 35,
      "id": "862f2211",
      "metadata": {
        "id": "862f2211"
      },
      "outputs": [],
      "source": [
        "from sklearn.model_selection import train_test_split\n",
        "from sklearn.preprocessing import MinMaxScaler,StandardScaler"
      ]
    },
    {
      "cell_type": "code",
      "execution_count": 36,
      "id": "2df5fc06",
      "metadata": {
        "id": "2df5fc06"
      },
      "outputs": [],
      "source": [
        "x=df.drop('TenYearCHD',axis=1)\n",
        "y=df['TenYearCHD']"
      ]
    },
    {
      "cell_type": "code",
      "execution_count": 37,
      "id": "1fc75750",
      "metadata": {
        "id": "1fc75750"
      },
      "outputs": [],
      "source": [
        "mms=MinMaxScaler()\n",
        "x_scaled=mms.fit_transform(x)\n",
        "x=pd.DataFrame(x_scaled,columns=x.columns)"
      ]
    },
    {
      "cell_type": "code",
      "execution_count": 38,
      "id": "c771ac9e",
      "metadata": {
        "id": "c771ac9e"
      },
      "outputs": [],
      "source": [
        "# std=StandardScaler()\n",
        "# x_scaled=std.fit_transform(x)\n",
        "# x=pd.DataFrame(x_scaled,columns=x.columns)"
      ]
    },
    {
      "cell_type": "code",
      "execution_count": 39,
      "id": "996541cd",
      "metadata": {
        "id": "996541cd"
      },
      "outputs": [],
      "source": [
        "from imblearn.over_sampling import RandomOverSampler"
      ]
    },
    {
      "cell_type": "code",
      "execution_count": 40,
      "id": "7e7146ee",
      "metadata": {
        "id": "7e7146ee"
      },
      "outputs": [],
      "source": [
        "ros=RandomOverSampler()\n",
        "x_ros,y_ros=ros.fit_resample(x,y)"
      ]
    },
    {
      "cell_type": "code",
      "execution_count": 41,
      "id": "b0bf76e1",
      "metadata": {
        "id": "b0bf76e1"
      },
      "outputs": [],
      "source": [
        "xtr,xte,ytr,yte=train_test_split(x_ros,y_ros,train_size=0.8,stratify=y_ros,random_state=1)"
      ]
    },
    {
      "cell_type": "code",
      "execution_count": 42,
      "id": "9e551ae4",
      "metadata": {
        "id": "9e551ae4"
      },
      "outputs": [],
      "source": [
        "from sklearn.linear_model import LogisticRegression\n",
        "from sklearn.neighbors import KNeighborsClassifier\n",
        "from sklearn.tree import DecisionTreeClassifier\n",
        "from sklearn.ensemble import RandomForestClassifier,AdaBoostClassifier,GradientBoostingClassifier\n",
        "from xgboost import XGBClassifier,XGBRFClassifier\n",
        "from sklearn.naive_bayes import GaussianNB"
      ]
    },
    {
      "cell_type": "code",
      "execution_count": 43,
      "id": "51cb92bd",
      "metadata": {
        "id": "51cb92bd"
      },
      "outputs": [],
      "source": [
        "lore=LogisticRegression()\n",
        "knn=KNeighborsClassifier()\n",
        "dtc=DecisionTreeClassifier()\n",
        "rfc=RandomForestClassifier()\n",
        "abc=AdaBoostClassifier()\n",
        "gbc=GradientBoostingClassifier()\n",
        "xgbc=XGBClassifier()\n",
        "xgbrf=XGBRFClassifier()\n",
        "gnb=GaussianNB()"
      ]
    },
    {
      "cell_type": "code",
      "execution_count": 44,
      "id": "e46c0026",
      "metadata": {
        "colab": {
          "base_uri": "https://localhost:8080/",
          "height": 74
        },
        "id": "e46c0026",
        "outputId": "a7528cb2-f4dd-4720-c13d-61cf918ef155"
      },
      "outputs": [
        {
          "output_type": "execute_result",
          "data": {
            "text/plain": [
              "GaussianNB()"
            ],
            "text/html": [
              "<style>#sk-container-id-1 {color: black;background-color: white;}#sk-container-id-1 pre{padding: 0;}#sk-container-id-1 div.sk-toggleable {background-color: white;}#sk-container-id-1 label.sk-toggleable__label {cursor: pointer;display: block;width: 100%;margin-bottom: 0;padding: 0.3em;box-sizing: border-box;text-align: center;}#sk-container-id-1 label.sk-toggleable__label-arrow:before {content: \"▸\";float: left;margin-right: 0.25em;color: #696969;}#sk-container-id-1 label.sk-toggleable__label-arrow:hover:before {color: black;}#sk-container-id-1 div.sk-estimator:hover label.sk-toggleable__label-arrow:before {color: black;}#sk-container-id-1 div.sk-toggleable__content {max-height: 0;max-width: 0;overflow: hidden;text-align: left;background-color: #f0f8ff;}#sk-container-id-1 div.sk-toggleable__content pre {margin: 0.2em;color: black;border-radius: 0.25em;background-color: #f0f8ff;}#sk-container-id-1 input.sk-toggleable__control:checked~div.sk-toggleable__content {max-height: 200px;max-width: 100%;overflow: auto;}#sk-container-id-1 input.sk-toggleable__control:checked~label.sk-toggleable__label-arrow:before {content: \"▾\";}#sk-container-id-1 div.sk-estimator input.sk-toggleable__control:checked~label.sk-toggleable__label {background-color: #d4ebff;}#sk-container-id-1 div.sk-label input.sk-toggleable__control:checked~label.sk-toggleable__label {background-color: #d4ebff;}#sk-container-id-1 input.sk-hidden--visually {border: 0;clip: rect(1px 1px 1px 1px);clip: rect(1px, 1px, 1px, 1px);height: 1px;margin: -1px;overflow: hidden;padding: 0;position: absolute;width: 1px;}#sk-container-id-1 div.sk-estimator {font-family: monospace;background-color: #f0f8ff;border: 1px dotted black;border-radius: 0.25em;box-sizing: border-box;margin-bottom: 0.5em;}#sk-container-id-1 div.sk-estimator:hover {background-color: #d4ebff;}#sk-container-id-1 div.sk-parallel-item::after {content: \"\";width: 100%;border-bottom: 1px solid gray;flex-grow: 1;}#sk-container-id-1 div.sk-label:hover label.sk-toggleable__label {background-color: #d4ebff;}#sk-container-id-1 div.sk-serial::before {content: \"\";position: absolute;border-left: 1px solid gray;box-sizing: border-box;top: 0;bottom: 0;left: 50%;z-index: 0;}#sk-container-id-1 div.sk-serial {display: flex;flex-direction: column;align-items: center;background-color: white;padding-right: 0.2em;padding-left: 0.2em;position: relative;}#sk-container-id-1 div.sk-item {position: relative;z-index: 1;}#sk-container-id-1 div.sk-parallel {display: flex;align-items: stretch;justify-content: center;background-color: white;position: relative;}#sk-container-id-1 div.sk-item::before, #sk-container-id-1 div.sk-parallel-item::before {content: \"\";position: absolute;border-left: 1px solid gray;box-sizing: border-box;top: 0;bottom: 0;left: 50%;z-index: -1;}#sk-container-id-1 div.sk-parallel-item {display: flex;flex-direction: column;z-index: 1;position: relative;background-color: white;}#sk-container-id-1 div.sk-parallel-item:first-child::after {align-self: flex-end;width: 50%;}#sk-container-id-1 div.sk-parallel-item:last-child::after {align-self: flex-start;width: 50%;}#sk-container-id-1 div.sk-parallel-item:only-child::after {width: 0;}#sk-container-id-1 div.sk-dashed-wrapped {border: 1px dashed gray;margin: 0 0.4em 0.5em 0.4em;box-sizing: border-box;padding-bottom: 0.4em;background-color: white;}#sk-container-id-1 div.sk-label label {font-family: monospace;font-weight: bold;display: inline-block;line-height: 1.2em;}#sk-container-id-1 div.sk-label-container {text-align: center;}#sk-container-id-1 div.sk-container {/* jupyter's `normalize.less` sets `[hidden] { display: none; }` but bootstrap.min.css set `[hidden] { display: none !important; }` so we also need the `!important` here to be able to override the default hidden behavior on the sphinx rendered scikit-learn.org. See: https://github.com/scikit-learn/scikit-learn/issues/21755 */display: inline-block !important;position: relative;}#sk-container-id-1 div.sk-text-repr-fallback {display: none;}</style><div id=\"sk-container-id-1\" class=\"sk-top-container\"><div class=\"sk-text-repr-fallback\"><pre>GaussianNB()</pre><b>In a Jupyter environment, please rerun this cell to show the HTML representation or trust the notebook. <br />On GitHub, the HTML representation is unable to render, please try loading this page with nbviewer.org.</b></div><div class=\"sk-container\" hidden><div class=\"sk-item\"><div class=\"sk-estimator sk-toggleable\"><input class=\"sk-toggleable__control sk-hidden--visually\" id=\"sk-estimator-id-1\" type=\"checkbox\" checked><label for=\"sk-estimator-id-1\" class=\"sk-toggleable__label sk-toggleable__label-arrow\">GaussianNB</label><div class=\"sk-toggleable__content\"><pre>GaussianNB()</pre></div></div></div></div></div>"
            ]
          },
          "metadata": {},
          "execution_count": 44
        }
      ],
      "source": [
        "lore.fit(xtr,ytr)\n",
        "knn.fit(xtr,ytr)\n",
        "dtc.fit(xtr,ytr)\n",
        "rfc.fit(xtr,ytr)\n",
        "abc.fit(xtr,ytr)\n",
        "gbc.fit(xtr,ytr)\n",
        "xgbc.fit(xtr,ytr)\n",
        "xgbrf.fit(xtr,ytr)\n",
        "gnb.fit(xtr,ytr)"
      ]
    },
    {
      "cell_type": "code",
      "execution_count": 45,
      "id": "01c1cf94",
      "metadata": {
        "id": "01c1cf94"
      },
      "outputs": [],
      "source": [
        "ypredlore=lore.predict(xte)\n",
        "ypredknn=knn.predict(xte)\n",
        "ypreddtc=dtc.predict(xte)\n",
        "ypredrfc=rfc.predict(xte)\n",
        "ypredabc=abc.predict(xte)\n",
        "ypredgbc=gbc.predict(xte)\n",
        "ypredxgbc=xgbc.predict(xte)\n",
        "ypredxgbrf=xgbrf.predict(xte)\n",
        "ypredgnb=gnb.predict(xte)"
      ]
    },
    {
      "cell_type": "code",
      "execution_count": 46,
      "id": "3f11298c",
      "metadata": {
        "id": "3f11298c"
      },
      "outputs": [],
      "source": [
        "from sklearn.metrics import classification_report"
      ]
    },
    {
      "cell_type": "code",
      "execution_count": 47,
      "id": "ddbb0316",
      "metadata": {
        "colab": {
          "base_uri": "https://localhost:8080/"
        },
        "id": "ddbb0316",
        "outputId": "fca34811-e860-469e-e484-b0dd16a3860f"
      },
      "outputs": [
        {
          "output_type": "stream",
          "name": "stdout",
          "text": [
            "              precision    recall  f1-score   support\n",
            "\n",
            "           0       0.64      0.70      0.67       657\n",
            "           1       0.73      0.67      0.70       781\n",
            "\n",
            "    accuracy                           0.69      1438\n",
            "   macro avg       0.69      0.69      0.69      1438\n",
            "weighted avg       0.69      0.69      0.69      1438\n",
            "\n"
          ]
        }
      ],
      "source": [
        "print(classification_report(ypredlore,yte))"
      ]
    },
    {
      "cell_type": "code",
      "execution_count": 48,
      "id": "e2a9e969",
      "metadata": {
        "colab": {
          "base_uri": "https://localhost:8080/"
        },
        "id": "e2a9e969",
        "outputId": "b283cf9a-62eb-48de-ec2f-592c6132b66b"
      },
      "outputs": [
        {
          "output_type": "stream",
          "name": "stdout",
          "text": [
            "              precision    recall  f1-score   support\n",
            "\n",
            "           0       0.64      0.89      0.75       517\n",
            "           1       0.92      0.72      0.81       921\n",
            "\n",
            "    accuracy                           0.78      1438\n",
            "   macro avg       0.78      0.81      0.78      1438\n",
            "weighted avg       0.82      0.78      0.79      1438\n",
            "\n"
          ]
        }
      ],
      "source": [
        "print(classification_report(ypredknn,yte))"
      ]
    },
    {
      "cell_type": "code",
      "execution_count": 49,
      "id": "9bf512f5",
      "metadata": {
        "colab": {
          "base_uri": "https://localhost:8080/"
        },
        "id": "9bf512f5",
        "outputId": "0ec10add-d24b-4b95-db08-4f6b07a61f9f"
      },
      "outputs": [
        {
          "output_type": "stream",
          "name": "stdout",
          "text": [
            "              precision    recall  f1-score   support\n",
            "\n",
            "           0       0.84      0.99      0.91       606\n",
            "           1       0.99      0.86      0.92       832\n",
            "\n",
            "    accuracy                           0.91      1438\n",
            "   macro avg       0.91      0.92      0.91      1438\n",
            "weighted avg       0.93      0.91      0.91      1438\n",
            "\n"
          ]
        }
      ],
      "source": [
        "print(classification_report(ypreddtc,yte))"
      ]
    },
    {
      "cell_type": "code",
      "execution_count": 50,
      "id": "73bd1fa9",
      "metadata": {
        "scrolled": true,
        "colab": {
          "base_uri": "https://localhost:8080/"
        },
        "id": "73bd1fa9",
        "outputId": "d0265609-576a-4b63-ee8b-00d353b95ffc"
      },
      "outputs": [
        {
          "output_type": "stream",
          "name": "stdout",
          "text": [
            "              precision    recall  f1-score   support\n",
            "\n",
            "           0       0.94      0.99      0.97       684\n",
            "           1       0.99      0.95      0.97       754\n",
            "\n",
            "    accuracy                           0.97      1438\n",
            "   macro avg       0.97      0.97      0.97      1438\n",
            "weighted avg       0.97      0.97      0.97      1438\n",
            "\n"
          ]
        }
      ],
      "source": [
        "print(classification_report(ypredrfc,yte))"
      ]
    },
    {
      "cell_type": "code",
      "execution_count": 51,
      "id": "b0918143",
      "metadata": {
        "colab": {
          "base_uri": "https://localhost:8080/"
        },
        "id": "b0918143",
        "outputId": "f2c94151-06e2-4928-a913-054c74a1c596"
      },
      "outputs": [
        {
          "output_type": "stream",
          "name": "stdout",
          "text": [
            "              precision    recall  f1-score   support\n",
            "\n",
            "           0       0.64      0.69      0.66       665\n",
            "           1       0.71      0.66      0.69       773\n",
            "\n",
            "    accuracy                           0.67      1438\n",
            "   macro avg       0.67      0.68      0.67      1438\n",
            "weighted avg       0.68      0.67      0.68      1438\n",
            "\n"
          ]
        }
      ],
      "source": [
        "print(classification_report(ypredabc,yte))"
      ]
    },
    {
      "cell_type": "code",
      "execution_count": 52,
      "id": "cb339ae4",
      "metadata": {
        "colab": {
          "base_uri": "https://localhost:8080/"
        },
        "id": "cb339ae4",
        "outputId": "5dfac9c3-c607-4730-c7bf-916864071ff7"
      },
      "outputs": [
        {
          "output_type": "stream",
          "name": "stdout",
          "text": [
            "              precision    recall  f1-score   support\n",
            "\n",
            "           0       0.66      0.74      0.70       644\n",
            "           1       0.77      0.70      0.73       794\n",
            "\n",
            "    accuracy                           0.72      1438\n",
            "   macro avg       0.72      0.72      0.72      1438\n",
            "weighted avg       0.72      0.72      0.72      1438\n",
            "\n"
          ]
        }
      ],
      "source": [
        "print(classification_report(ypredgbc,yte))"
      ]
    },
    {
      "cell_type": "code",
      "execution_count": 53,
      "id": "0d49b717",
      "metadata": {
        "colab": {
          "base_uri": "https://localhost:8080/"
        },
        "id": "0d49b717",
        "outputId": "8f4545c6-9714-4197-8c81-e7b0de80bf7f"
      },
      "outputs": [
        {
          "output_type": "stream",
          "name": "stdout",
          "text": [
            "              precision    recall  f1-score   support\n",
            "\n",
            "           0       0.85      0.98      0.91       626\n",
            "           1       0.98      0.87      0.92       812\n",
            "\n",
            "    accuracy                           0.92      1438\n",
            "   macro avg       0.92      0.92      0.92      1438\n",
            "weighted avg       0.92      0.92      0.92      1438\n",
            "\n"
          ]
        }
      ],
      "source": [
        "print(classification_report(ypredxgbc,yte))"
      ]
    },
    {
      "cell_type": "code",
      "execution_count": 54,
      "id": "20b7277d",
      "metadata": {
        "colab": {
          "base_uri": "https://localhost:8080/"
        },
        "id": "20b7277d",
        "outputId": "eb3501ad-f771-4fca-a219-320c2c52642e"
      },
      "outputs": [
        {
          "output_type": "stream",
          "name": "stdout",
          "text": [
            "              precision    recall  f1-score   support\n",
            "\n",
            "           0       0.66      0.79      0.72       599\n",
            "           1       0.83      0.71      0.77       839\n",
            "\n",
            "    accuracy                           0.75      1438\n",
            "   macro avg       0.75      0.75      0.74      1438\n",
            "weighted avg       0.76      0.75      0.75      1438\n",
            "\n"
          ]
        }
      ],
      "source": [
        "print(classification_report(ypredxgbrf,yte))"
      ]
    },
    {
      "cell_type": "code",
      "execution_count": 55,
      "id": "42659f2a",
      "metadata": {
        "colab": {
          "base_uri": "https://localhost:8080/"
        },
        "id": "42659f2a",
        "outputId": "c97e550a-e57f-4067-d532-7e28d3f1e5ab"
      },
      "outputs": [
        {
          "output_type": "stream",
          "name": "stdout",
          "text": [
            "              precision    recall  f1-score   support\n",
            "\n",
            "           0       0.86      0.57      0.69      1086\n",
            "           1       0.35      0.72      0.47       352\n",
            "\n",
            "    accuracy                           0.61      1438\n",
            "   macro avg       0.61      0.64      0.58      1438\n",
            "weighted avg       0.74      0.61      0.63      1438\n",
            "\n"
          ]
        }
      ],
      "source": [
        "print(classification_report(ypredgnb,yte))"
      ]
    },
    {
      "cell_type": "code",
      "execution_count": 56,
      "id": "56199d83",
      "metadata": {
        "id": "56199d83"
      },
      "outputs": [],
      "source": [
        "train=[lore.score(xtr,ytr),knn.score(xtr,ytr),dtc.score(xtr,ytr),rfc.score(xtr,ytr),abc.score(xtr,ytr),\n",
        "gbc.score(xtr,ytr),xgbc.score(xtr,ytr),xgbrf.score(xtr,ytr),gnb.score(xtr,ytr)]"
      ]
    },
    {
      "cell_type": "code",
      "execution_count": 57,
      "id": "09caba28",
      "metadata": {
        "id": "09caba28"
      },
      "outputs": [],
      "source": [
        "test=[lore.score(xte,yte),knn.score(xte,yte),dtc.score(xte,yte),rfc.score(xte,yte),abc.score(xte,yte),\n",
        "gbc.score(xte,yte),xgbc.score(xte,yte),xgbrf.score(xte,yte),gnb.score(xte,yte)]"
      ]
    },
    {
      "cell_type": "code",
      "execution_count": 58,
      "id": "929d7522",
      "metadata": {
        "id": "929d7522"
      },
      "outputs": [],
      "source": [
        "accuracies=pd.DataFrame({'train_accuracy':train,'test_accuracy':test})"
      ]
    },
    {
      "cell_type": "code",
      "execution_count": 59,
      "id": "35a4cb2f",
      "metadata": {
        "id": "35a4cb2f"
      },
      "outputs": [],
      "source": [
        "accuracies.index=['lore','knn','dtc','rfc','abc','gbc','xgbc','xgbrf','gnb']"
      ]
    },
    {
      "cell_type": "code",
      "execution_count": 60,
      "id": "3adaa828",
      "metadata": {
        "colab": {
          "base_uri": "https://localhost:8080/",
          "height": 331
        },
        "id": "3adaa828",
        "outputId": "4356f5e4-d44e-4679-cb98-c7dc2757538f"
      },
      "outputs": [
        {
          "output_type": "execute_result",
          "data": {
            "text/plain": [
              "       train_accuracy  test_accuracy\n",
              "lore         0.683130       0.685675\n",
              "knn          0.865043       0.781641\n",
              "dtc          1.000000       0.914465\n",
              "rfc          1.000000       0.968707\n",
              "abc          0.698609       0.674548\n",
              "gbc          0.751304       0.716968\n",
              "xgbc         0.997043       0.915855\n",
              "xgbrf        0.778261       0.745480\n",
              "gnb          0.608174       0.605702"
            ],
            "text/html": [
              "\n",
              "  <div id=\"df-da122785-531c-4e9c-a1be-884f6c21b479\" class=\"colab-df-container\">\n",
              "    <div>\n",
              "<style scoped>\n",
              "    .dataframe tbody tr th:only-of-type {\n",
              "        vertical-align: middle;\n",
              "    }\n",
              "\n",
              "    .dataframe tbody tr th {\n",
              "        vertical-align: top;\n",
              "    }\n",
              "\n",
              "    .dataframe thead th {\n",
              "        text-align: right;\n",
              "    }\n",
              "</style>\n",
              "<table border=\"1\" class=\"dataframe\">\n",
              "  <thead>\n",
              "    <tr style=\"text-align: right;\">\n",
              "      <th></th>\n",
              "      <th>train_accuracy</th>\n",
              "      <th>test_accuracy</th>\n",
              "    </tr>\n",
              "  </thead>\n",
              "  <tbody>\n",
              "    <tr>\n",
              "      <th>lore</th>\n",
              "      <td>0.683130</td>\n",
              "      <td>0.685675</td>\n",
              "    </tr>\n",
              "    <tr>\n",
              "      <th>knn</th>\n",
              "      <td>0.865043</td>\n",
              "      <td>0.781641</td>\n",
              "    </tr>\n",
              "    <tr>\n",
              "      <th>dtc</th>\n",
              "      <td>1.000000</td>\n",
              "      <td>0.914465</td>\n",
              "    </tr>\n",
              "    <tr>\n",
              "      <th>rfc</th>\n",
              "      <td>1.000000</td>\n",
              "      <td>0.968707</td>\n",
              "    </tr>\n",
              "    <tr>\n",
              "      <th>abc</th>\n",
              "      <td>0.698609</td>\n",
              "      <td>0.674548</td>\n",
              "    </tr>\n",
              "    <tr>\n",
              "      <th>gbc</th>\n",
              "      <td>0.751304</td>\n",
              "      <td>0.716968</td>\n",
              "    </tr>\n",
              "    <tr>\n",
              "      <th>xgbc</th>\n",
              "      <td>0.997043</td>\n",
              "      <td>0.915855</td>\n",
              "    </tr>\n",
              "    <tr>\n",
              "      <th>xgbrf</th>\n",
              "      <td>0.778261</td>\n",
              "      <td>0.745480</td>\n",
              "    </tr>\n",
              "    <tr>\n",
              "      <th>gnb</th>\n",
              "      <td>0.608174</td>\n",
              "      <td>0.605702</td>\n",
              "    </tr>\n",
              "  </tbody>\n",
              "</table>\n",
              "</div>\n",
              "    <div class=\"colab-df-buttons\">\n",
              "\n",
              "  <div class=\"colab-df-container\">\n",
              "    <button class=\"colab-df-convert\" onclick=\"convertToInteractive('df-da122785-531c-4e9c-a1be-884f6c21b479')\"\n",
              "            title=\"Convert this dataframe to an interactive table.\"\n",
              "            style=\"display:none;\">\n",
              "\n",
              "  <svg xmlns=\"http://www.w3.org/2000/svg\" height=\"24px\" viewBox=\"0 -960 960 960\">\n",
              "    <path d=\"M120-120v-720h720v720H120Zm60-500h600v-160H180v160Zm220 220h160v-160H400v160Zm0 220h160v-160H400v160ZM180-400h160v-160H180v160Zm440 0h160v-160H620v160ZM180-180h160v-160H180v160Zm440 0h160v-160H620v160Z\"/>\n",
              "  </svg>\n",
              "    </button>\n",
              "\n",
              "  <style>\n",
              "    .colab-df-container {\n",
              "      display:flex;\n",
              "      gap: 12px;\n",
              "    }\n",
              "\n",
              "    .colab-df-convert {\n",
              "      background-color: #E8F0FE;\n",
              "      border: none;\n",
              "      border-radius: 50%;\n",
              "      cursor: pointer;\n",
              "      display: none;\n",
              "      fill: #1967D2;\n",
              "      height: 32px;\n",
              "      padding: 0 0 0 0;\n",
              "      width: 32px;\n",
              "    }\n",
              "\n",
              "    .colab-df-convert:hover {\n",
              "      background-color: #E2EBFA;\n",
              "      box-shadow: 0px 1px 2px rgba(60, 64, 67, 0.3), 0px 1px 3px 1px rgba(60, 64, 67, 0.15);\n",
              "      fill: #174EA6;\n",
              "    }\n",
              "\n",
              "    .colab-df-buttons div {\n",
              "      margin-bottom: 4px;\n",
              "    }\n",
              "\n",
              "    [theme=dark] .colab-df-convert {\n",
              "      background-color: #3B4455;\n",
              "      fill: #D2E3FC;\n",
              "    }\n",
              "\n",
              "    [theme=dark] .colab-df-convert:hover {\n",
              "      background-color: #434B5C;\n",
              "      box-shadow: 0px 1px 3px 1px rgba(0, 0, 0, 0.15);\n",
              "      filter: drop-shadow(0px 1px 2px rgba(0, 0, 0, 0.3));\n",
              "      fill: #FFFFFF;\n",
              "    }\n",
              "  </style>\n",
              "\n",
              "    <script>\n",
              "      const buttonEl =\n",
              "        document.querySelector('#df-da122785-531c-4e9c-a1be-884f6c21b479 button.colab-df-convert');\n",
              "      buttonEl.style.display =\n",
              "        google.colab.kernel.accessAllowed ? 'block' : 'none';\n",
              "\n",
              "      async function convertToInteractive(key) {\n",
              "        const element = document.querySelector('#df-da122785-531c-4e9c-a1be-884f6c21b479');\n",
              "        const dataTable =\n",
              "          await google.colab.kernel.invokeFunction('convertToInteractive',\n",
              "                                                    [key], {});\n",
              "        if (!dataTable) return;\n",
              "\n",
              "        const docLinkHtml = 'Like what you see? Visit the ' +\n",
              "          '<a target=\"_blank\" href=https://colab.research.google.com/notebooks/data_table.ipynb>data table notebook</a>'\n",
              "          + ' to learn more about interactive tables.';\n",
              "        element.innerHTML = '';\n",
              "        dataTable['output_type'] = 'display_data';\n",
              "        await google.colab.output.renderOutput(dataTable, element);\n",
              "        const docLink = document.createElement('div');\n",
              "        docLink.innerHTML = docLinkHtml;\n",
              "        element.appendChild(docLink);\n",
              "      }\n",
              "    </script>\n",
              "  </div>\n",
              "\n",
              "\n",
              "<div id=\"df-9477402a-0388-46b1-b42e-a72861f9edd9\">\n",
              "  <button class=\"colab-df-quickchart\" onclick=\"quickchart('df-9477402a-0388-46b1-b42e-a72861f9edd9')\"\n",
              "            title=\"Suggest charts\"\n",
              "            style=\"display:none;\">\n",
              "\n",
              "<svg xmlns=\"http://www.w3.org/2000/svg\" height=\"24px\"viewBox=\"0 0 24 24\"\n",
              "     width=\"24px\">\n",
              "    <g>\n",
              "        <path d=\"M19 3H5c-1.1 0-2 .9-2 2v14c0 1.1.9 2 2 2h14c1.1 0 2-.9 2-2V5c0-1.1-.9-2-2-2zM9 17H7v-7h2v7zm4 0h-2V7h2v10zm4 0h-2v-4h2v4z\"/>\n",
              "    </g>\n",
              "</svg>\n",
              "  </button>\n",
              "\n",
              "<style>\n",
              "  .colab-df-quickchart {\n",
              "      --bg-color: #E8F0FE;\n",
              "      --fill-color: #1967D2;\n",
              "      --hover-bg-color: #E2EBFA;\n",
              "      --hover-fill-color: #174EA6;\n",
              "      --disabled-fill-color: #AAA;\n",
              "      --disabled-bg-color: #DDD;\n",
              "  }\n",
              "\n",
              "  [theme=dark] .colab-df-quickchart {\n",
              "      --bg-color: #3B4455;\n",
              "      --fill-color: #D2E3FC;\n",
              "      --hover-bg-color: #434B5C;\n",
              "      --hover-fill-color: #FFFFFF;\n",
              "      --disabled-bg-color: #3B4455;\n",
              "      --disabled-fill-color: #666;\n",
              "  }\n",
              "\n",
              "  .colab-df-quickchart {\n",
              "    background-color: var(--bg-color);\n",
              "    border: none;\n",
              "    border-radius: 50%;\n",
              "    cursor: pointer;\n",
              "    display: none;\n",
              "    fill: var(--fill-color);\n",
              "    height: 32px;\n",
              "    padding: 0;\n",
              "    width: 32px;\n",
              "  }\n",
              "\n",
              "  .colab-df-quickchart:hover {\n",
              "    background-color: var(--hover-bg-color);\n",
              "    box-shadow: 0 1px 2px rgba(60, 64, 67, 0.3), 0 1px 3px 1px rgba(60, 64, 67, 0.15);\n",
              "    fill: var(--button-hover-fill-color);\n",
              "  }\n",
              "\n",
              "  .colab-df-quickchart-complete:disabled,\n",
              "  .colab-df-quickchart-complete:disabled:hover {\n",
              "    background-color: var(--disabled-bg-color);\n",
              "    fill: var(--disabled-fill-color);\n",
              "    box-shadow: none;\n",
              "  }\n",
              "\n",
              "  .colab-df-spinner {\n",
              "    border: 2px solid var(--fill-color);\n",
              "    border-color: transparent;\n",
              "    border-bottom-color: var(--fill-color);\n",
              "    animation:\n",
              "      spin 1s steps(1) infinite;\n",
              "  }\n",
              "\n",
              "  @keyframes spin {\n",
              "    0% {\n",
              "      border-color: transparent;\n",
              "      border-bottom-color: var(--fill-color);\n",
              "      border-left-color: var(--fill-color);\n",
              "    }\n",
              "    20% {\n",
              "      border-color: transparent;\n",
              "      border-left-color: var(--fill-color);\n",
              "      border-top-color: var(--fill-color);\n",
              "    }\n",
              "    30% {\n",
              "      border-color: transparent;\n",
              "      border-left-color: var(--fill-color);\n",
              "      border-top-color: var(--fill-color);\n",
              "      border-right-color: var(--fill-color);\n",
              "    }\n",
              "    40% {\n",
              "      border-color: transparent;\n",
              "      border-right-color: var(--fill-color);\n",
              "      border-top-color: var(--fill-color);\n",
              "    }\n",
              "    60% {\n",
              "      border-color: transparent;\n",
              "      border-right-color: var(--fill-color);\n",
              "    }\n",
              "    80% {\n",
              "      border-color: transparent;\n",
              "      border-right-color: var(--fill-color);\n",
              "      border-bottom-color: var(--fill-color);\n",
              "    }\n",
              "    90% {\n",
              "      border-color: transparent;\n",
              "      border-bottom-color: var(--fill-color);\n",
              "    }\n",
              "  }\n",
              "</style>\n",
              "\n",
              "  <script>\n",
              "    async function quickchart(key) {\n",
              "      const quickchartButtonEl =\n",
              "        document.querySelector('#' + key + ' button');\n",
              "      quickchartButtonEl.disabled = true;  // To prevent multiple clicks.\n",
              "      quickchartButtonEl.classList.add('colab-df-spinner');\n",
              "      try {\n",
              "        const charts = await google.colab.kernel.invokeFunction(\n",
              "            'suggestCharts', [key], {});\n",
              "      } catch (error) {\n",
              "        console.error('Error during call to suggestCharts:', error);\n",
              "      }\n",
              "      quickchartButtonEl.classList.remove('colab-df-spinner');\n",
              "      quickchartButtonEl.classList.add('colab-df-quickchart-complete');\n",
              "    }\n",
              "    (() => {\n",
              "      let quickchartButtonEl =\n",
              "        document.querySelector('#df-9477402a-0388-46b1-b42e-a72861f9edd9 button');\n",
              "      quickchartButtonEl.style.display =\n",
              "        google.colab.kernel.accessAllowed ? 'block' : 'none';\n",
              "    })();\n",
              "  </script>\n",
              "</div>\n",
              "    </div>\n",
              "  </div>\n"
            ]
          },
          "metadata": {},
          "execution_count": 60
        }
      ],
      "source": [
        "accuracies"
      ]
    },
    {
      "cell_type": "code",
      "execution_count": 61,
      "id": "0a4f6141",
      "metadata": {
        "id": "0a4f6141"
      },
      "outputs": [],
      "source": [
        "import pickle\n",
        "with open('xgboost.pkl', 'wb') as file:\n",
        "    # Use pickle.dump to serialize and save the object to the file\n",
        "    pickle.dump(xgbc, file)"
      ]
    },
    {
      "cell_type": "code",
      "execution_count": null,
      "id": "6996e49e",
      "metadata": {
        "id": "6996e49e"
      },
      "outputs": [],
      "source": []
    }
  ],
  "metadata": {
    "kernelspec": {
      "display_name": "Python 3",
      "name": "python3"
    },
    "language_info": {
      "codemirror_mode": {
        "name": "ipython",
        "version": 3
      },
      "file_extension": ".py",
      "mimetype": "text/x-python",
      "name": "python",
      "nbconvert_exporter": "python",
      "pygments_lexer": "ipython3",
      "version": "3.9.7"
    },
    "colab": {
      "provenance": [],
      "gpuType": "T4"
    },
    "accelerator": "GPU"
  },
  "nbformat": 4,
  "nbformat_minor": 5
}